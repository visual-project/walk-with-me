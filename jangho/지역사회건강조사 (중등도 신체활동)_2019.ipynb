{
 "cells": [
  {
   "cell_type": "code",
   "execution_count": 1,
   "id": "2fb38580",
   "metadata": {},
   "outputs": [],
   "source": [
    "import pandas as pd\n",
    "import numpy as np\n",
    "\n",
    "data_raw = pd.read_csv('../raw/지역사회건강조사 1차 전처리_2019.csv')"
   ]
  },
  {
   "cell_type": "code",
   "execution_count": 2,
   "id": "8c14d67a",
   "metadata": {},
   "outputs": [],
   "source": [
    "data_pbhlth_code = pd.read_excel('../raw/지역사회건강조사 2019년 원시자료 이용지침서 등/지역사회건강조사 2019 원시자료 참고사항_보건소정보, 세대유형.xlsx',header=3)\n",
    "data_pbhlth_code = data_pbhlth_code[data_pbhlth_code['시도코드'] == 11][['보건소코드','보건소명']]\n",
    "data_pbhlth_code[\"보건소명\"] = data_pbhlth_code[\"보건소명\"].str.replace('보건소', '', regex=True)\n",
    "data_pbhlth_code.columns=['보건소코드','자치구']\n",
    "list_region = list(data_pbhlth_code.to_dict()['자치구'].values()) + ['서울시']\n",
    "list_region.reverse()"
   ]
  },
  {
   "cell_type": "code",
   "execution_count": 3,
   "id": "1e89fe92",
   "metadata": {},
   "outputs": [],
   "source": [
    "df = data_raw[['만나이','성별','자치구', '중등도 신체활동 일수', '중등도 신체활동 시간(시)','중등도 신체활동 시간(분)']]"
   ]
  },
  {
   "cell_type": "code",
   "execution_count": 5,
   "id": "38658b07",
   "metadata": {},
   "outputs": [],
   "source": [
    "df1=df[df['중등도 신체활동 일수'] != 99]\n",
    "df2=df1[df1['중등도 신체활동 일수'] != 77]\n",
    "df3=df2[df2['중등도 신체활동 일수'] != 99]\n",
    "df4=df3[df3['중등도 신체활동 일수'] != 99]"
   ]
  },
  {
   "cell_type": "code",
   "execution_count": 6,
   "id": "33c0b963",
   "metadata": {},
   "outputs": [],
   "source": [
    "def transtime(df_activity) :\n",
    "    if 0 <= df_activity['중등도 신체활동 시간(시)'] <= 24 and df_activity['중등도 신체활동 시간(분)'] <= 59 :\n",
    "        return df_activity['중등도 신체활동 시간(시)']*60 + df_activity['중등도 신체활동 시간(분)']\n",
    "    else :\n",
    "        return 0\n",
    "    \n",
    "def health_index(df_activity) :\n",
    "    if df_activity['중등도 신체활동 일수'] < 5 :\n",
    "        return 0\n",
    "    elif 5 <= df_activity['중등도 신체활동 일수'] and df_activity['중등도 시분 환산'] >= 30 :\n",
    "        return 1\n",
    "    else :\n",
    "        return 0"
   ]
  },
  {
   "cell_type": "code",
   "execution_count": 7,
   "id": "5b51dce5",
   "metadata": {},
   "outputs": [],
   "source": [
    "df_activity = df4.copy() # 오류제거\n",
    "df_activity[\"중등도 시분 환산\"] = df_activity.apply(transtime, axis =1)\n",
    "df_activity['중등도 신체활동 실천'] = df_activity.apply(health_index, axis =1)\n",
    "df_activity = df_activity.drop(['중등도 신체활동 시간(시)','중등도 신체활동 시간(분)','중등도 신체활동 일수','중등도 시분 환산'],axis=1)"
   ]
  },
  {
   "cell_type": "code",
   "execution_count": 8,
   "id": "ee2eccaf",
   "metadata": {},
   "outputs": [],
   "source": [
    "list_df = []\n",
    "for value in list_region:\n",
    "    temp = df_activity['자치구'] == value\n",
    "    list_df.append(df_activity[temp])\n",
    "list_df[0] = df_activity"
   ]
  },
  {
   "cell_type": "code",
   "execution_count": 9,
   "id": "288f62c9",
   "metadata": {},
   "outputs": [],
   "source": [
    "list_age = ['19~200','19~44','45~64','65~74','75~200']\n",
    "list_sex = ['계','남','여']\n",
    "idx_sex = []\n",
    "idx_age = []\n",
    "idx_region = []\n",
    "value_act = []\n",
    "for i, value1 in enumerate(list_region):\n",
    "    for j in list_age:\n",
    "        for k in list_sex:            \n",
    "            temp = list_df[i][list_df[i]['만나이']>=int(j.split('~')[0])]\n",
    "            temp1 = temp[temp['만나이'] <= int(j.split('~')[1])]\n",
    "            if k == '남':\n",
    "                temp2 = temp1[temp1['성별'] == 1]\n",
    "            elif k == '여':\n",
    "                temp2 = temp1[temp1['성별'] == 2]\n",
    "            else:\n",
    "                temp2 = temp1\n",
    "            temp3 = temp2['중등도 신체활동 실천'].value_counts(normalize = True).to_dict()\n",
    "            if 1 not in temp3:\n",
    "                temp3[1] = 0\n",
    "            if 0 not in temp3:\n",
    "                temp3[0] = 0\n",
    "            value_act.append(round(temp3[1]*100,1))\n",
    "            \n",
    "            if j == '19~200':\n",
    "                idx_age.append('계')\n",
    "            elif j == '75~200':\n",
    "                idx_age.append('75 이상')\n",
    "            else:\n",
    "                idx_age.append(j)\n",
    "            idx_sex.append(k)\n",
    "            idx_region.append(value1)"
   ]
  },
  {
   "cell_type": "code",
   "execution_count": 10,
   "id": "e0843516",
   "metadata": {},
   "outputs": [
    {
     "data": {
      "text/html": [
       "<div>\n",
       "<style scoped>\n",
       "    .dataframe tbody tr th:only-of-type {\n",
       "        vertical-align: middle;\n",
       "    }\n",
       "\n",
       "    .dataframe tbody tr th {\n",
       "        vertical-align: top;\n",
       "    }\n",
       "\n",
       "    .dataframe thead th {\n",
       "        text-align: right;\n",
       "    }\n",
       "</style>\n",
       "<table border=\"1\" class=\"dataframe\">\n",
       "  <thead>\n",
       "    <tr style=\"text-align: right;\">\n",
       "      <th></th>\n",
       "      <th></th>\n",
       "      <th></th>\n",
       "      <th>중등도 신체활동 실천</th>\n",
       "    </tr>\n",
       "    <tr>\n",
       "      <th>지역</th>\n",
       "      <th>연령별</th>\n",
       "      <th>성별</th>\n",
       "      <th></th>\n",
       "    </tr>\n",
       "  </thead>\n",
       "  <tbody>\n",
       "    <tr>\n",
       "      <th rowspan=\"5\" valign=\"top\">서울시</th>\n",
       "      <th rowspan=\"3\" valign=\"top\">계</th>\n",
       "      <th>계</th>\n",
       "      <td>10.4</td>\n",
       "    </tr>\n",
       "    <tr>\n",
       "      <th>남</th>\n",
       "      <td>12.3</td>\n",
       "    </tr>\n",
       "    <tr>\n",
       "      <th>여</th>\n",
       "      <td>8.9</td>\n",
       "    </tr>\n",
       "    <tr>\n",
       "      <th rowspan=\"2\" valign=\"top\">19~44</th>\n",
       "      <th>계</th>\n",
       "      <td>8.8</td>\n",
       "    </tr>\n",
       "    <tr>\n",
       "      <th>남</th>\n",
       "      <td>11.5</td>\n",
       "    </tr>\n",
       "    <tr>\n",
       "      <th>...</th>\n",
       "      <th>...</th>\n",
       "      <th>...</th>\n",
       "      <td>...</td>\n",
       "    </tr>\n",
       "    <tr>\n",
       "      <th rowspan=\"5\" valign=\"top\">강남구</th>\n",
       "      <th rowspan=\"2\" valign=\"top\">65~74</th>\n",
       "      <th>남</th>\n",
       "      <td>17.9</td>\n",
       "    </tr>\n",
       "    <tr>\n",
       "      <th>여</th>\n",
       "      <td>19.0</td>\n",
       "    </tr>\n",
       "    <tr>\n",
       "      <th rowspan=\"3\" valign=\"top\">75 이상</th>\n",
       "      <th>계</th>\n",
       "      <td>10.0</td>\n",
       "    </tr>\n",
       "    <tr>\n",
       "      <th>남</th>\n",
       "      <td>22.7</td>\n",
       "    </tr>\n",
       "    <tr>\n",
       "      <th>여</th>\n",
       "      <td>2.6</td>\n",
       "    </tr>\n",
       "  </tbody>\n",
       "</table>\n",
       "<p>390 rows × 1 columns</p>\n",
       "</div>"
      ],
      "text/plain": [
       "              중등도 신체활동 실천\n",
       "지역  연령별   성별             \n",
       "서울시 계     계          10.4\n",
       "          남          12.3\n",
       "          여           8.9\n",
       "    19~44 계           8.8\n",
       "          남          11.5\n",
       "...                   ...\n",
       "강남구 65~74 남          17.9\n",
       "          여          19.0\n",
       "    75 이상 계          10.0\n",
       "          남          22.7\n",
       "          여           2.6\n",
       "\n",
       "[390 rows x 1 columns]"
      ]
     },
     "execution_count": 10,
     "metadata": {},
     "output_type": "execute_result"
    }
   ],
   "source": [
    "df_final = pd.DataFrame({'중등도 신체활동 실천':value_act, '지역':idx_region,'연령별':idx_age,'성별':idx_sex})\n",
    "\n",
    "df_final = df_final.set_index(['지역','연령별','성별'])\n",
    "\n",
    "df_final"
   ]
  },
  {
   "cell_type": "code",
   "execution_count": 11,
   "id": "e4f8c8a3",
   "metadata": {},
   "outputs": [],
   "source": [
    "df_final.to_csv(\"../raw/지역사회건강조사 (전처리된 데이터)_2019/지역사회건강조사 (중등도 신체활동)_2019.csv\", mode='w',encoding = 'utf-8-sig')"
   ]
  },
  {
   "cell_type": "code",
   "execution_count": null,
   "id": "ed51ef1b",
   "metadata": {},
   "outputs": [],
   "source": []
  }
 ],
 "metadata": {
  "kernelspec": {
   "display_name": "Python 3",
   "language": "python",
   "name": "python3"
  },
  "language_info": {
   "codemirror_mode": {
    "name": "ipython",
    "version": 3
   },
   "file_extension": ".py",
   "mimetype": "text/x-python",
   "name": "python",
   "nbconvert_exporter": "python",
   "pygments_lexer": "ipython3",
   "version": "3.8.8"
  }
 },
 "nbformat": 4,
 "nbformat_minor": 5
}
