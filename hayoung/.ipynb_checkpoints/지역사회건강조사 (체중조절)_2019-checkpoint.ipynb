{
 "cells": [
  {
   "cell_type": "code",
   "execution_count": 30,
   "id": "3b8c5475",
   "metadata": {},
   "outputs": [],
   "source": [
    "import pandas as pd\n",
    "import numpy as np\n",
    "\n",
    "data_raw = pd.read_csv('../raw/지역사회건강조사 1차 전처리_2019.csv')"
   ]
  },
  {
   "cell_type": "code",
   "execution_count": 31,
   "id": "73628fd4",
   "metadata": {},
   "outputs": [],
   "source": [
    "df = data_raw[['만나이','성별','체중조절 경험 여부','자치구']]"
   ]
  },
  {
   "cell_type": "code",
   "execution_count": 32,
   "id": "7c6f342c",
   "metadata": {},
   "outputs": [
    {
     "data": {
      "text/plain": [
       "1    0.465169\n",
       "4    0.283141\n",
       "2    0.199433\n",
       "3    0.052257\n",
       "Name: 체중조절 경험 여부, dtype: float64"
      ]
     },
     "execution_count": 32,
     "metadata": {},
     "output_type": "execute_result"
    }
   ],
   "source": [
    "df_cw1=df[df['체중조절 경험 여부'] != 9]\n",
    "df_cw2=df_cw1[df_cw1['체중조절 경험 여부'] != 7]\n",
    "df_cw2['체중조절 경험 여부'].value_counts(normalize = True)"
   ]
  },
  {
   "cell_type": "code",
   "execution_count": 33,
   "id": "c22575bf",
   "metadata": {},
   "outputs": [],
   "source": [
    "data_pbhlth_code = pd.read_excel('../raw/지역사회건강조사 2019년 원시자료 이용지침서 등/지역사회건강조사 2019 원시자료 참고사항_보건소정보, 세대유형.xlsx',header=3)\n",
    "data_pbhlth_code = data_pbhlth_code[data_pbhlth_code['시도코드'] == 11][['보건소코드','보건소명']]\n",
    "data_pbhlth_code[\"보건소명\"] = data_pbhlth_code[\"보건소명\"].str.replace('보건소', '', regex=True)\n",
    "data_pbhlth_code.columns=['보건소코드','자치구']\n",
    "list_region = list(data_pbhlth_code.to_dict()['자치구'].values()) + ['서울시']\n",
    "list_region.reverse()"
   ]
  },
  {
   "cell_type": "code",
   "execution_count": 34,
   "id": "71c1bae8",
   "metadata": {},
   "outputs": [],
   "source": [
    "list_df = []\n",
    "for value in list_region:\n",
    "    temp = df_cw2['자치구'] == value\n",
    "    list_df.append(df_cw2[temp])\n",
    "list_df[0] = df_cw2"
   ]
  },
  {
   "cell_type": "code",
   "execution_count": 35,
   "id": "a85121b6",
   "metadata": {},
   "outputs": [],
   "source": [
    "list_age = ['19~200','19~44','45~64','65~74','75~200']\n",
    "list_sex = ['계','남','여']\n",
    "idx_sex = []\n",
    "idx_age = []\n",
    "idx_region = []\n",
    "value_cw = []\n",
    "for i, value1 in enumerate(list_region):\n",
    "    for j in list_age:\n",
    "        for k in list_sex:            \n",
    "            temp = list_df[i][list_df[i]['만나이']>=int(j.split('~')[0])]\n",
    "            temp1 = temp[temp['만나이'] <= int(j.split('~')[1])]\n",
    "            if k == '남':\n",
    "                temp2 = temp1[temp1['성별'] == 1]\n",
    "            elif k == '여':\n",
    "                temp2 = temp1[temp1['성별'] == 2]\n",
    "            else:\n",
    "                temp2 = temp1\n",
    "            temp3 = temp2['체중조절 경험 여부'].value_counts(normalize = True).to_dict()\n",
    "            if 4 not in temp3:\n",
    "                temp3[4] = 0\n",
    "            if 3 not in temp3:\n",
    "                temp3[3] = 0\n",
    "            value_cw.append(round(100 - (temp3[3]+temp3[4])*100,1))\n",
    "            \n",
    "            if j == '19~200':\n",
    "                idx_age.append('계')\n",
    "            elif j == '75~200':\n",
    "                idx_age.append('75 이상')\n",
    "            else:\n",
    "                idx_age.append(j)\n",
    "            idx_sex.append(k)\n",
    "            idx_region.append(value1)"
   ]
  },
  {
   "cell_type": "code",
   "execution_count": 37,
   "id": "3448e6ce",
   "metadata": {},
   "outputs": [
    {
     "data": {
      "text/html": [
       "<div>\n",
       "<style scoped>\n",
       "    .dataframe tbody tr th:only-of-type {\n",
       "        vertical-align: middle;\n",
       "    }\n",
       "\n",
       "    .dataframe tbody tr th {\n",
       "        vertical-align: top;\n",
       "    }\n",
       "\n",
       "    .dataframe thead th {\n",
       "        text-align: right;\n",
       "    }\n",
       "</style>\n",
       "<table border=\"1\" class=\"dataframe\">\n",
       "  <thead>\n",
       "    <tr style=\"text-align: right;\">\n",
       "      <th></th>\n",
       "      <th></th>\n",
       "      <th></th>\n",
       "      <th>체중조절 경험 여부</th>\n",
       "    </tr>\n",
       "    <tr>\n",
       "      <th>지역</th>\n",
       "      <th>연령별</th>\n",
       "      <th>성별</th>\n",
       "      <th></th>\n",
       "    </tr>\n",
       "  </thead>\n",
       "  <tbody>\n",
       "    <tr>\n",
       "      <th rowspan=\"5\" valign=\"top\">서울시</th>\n",
       "      <th rowspan=\"3\" valign=\"top\">계</th>\n",
       "      <th>계</th>\n",
       "      <td>66.5</td>\n",
       "    </tr>\n",
       "    <tr>\n",
       "      <th>남</th>\n",
       "      <td>60.0</td>\n",
       "    </tr>\n",
       "    <tr>\n",
       "      <th>여</th>\n",
       "      <td>71.5</td>\n",
       "    </tr>\n",
       "    <tr>\n",
       "      <th rowspan=\"2\" valign=\"top\">19~44</th>\n",
       "      <th>계</th>\n",
       "      <td>72.7</td>\n",
       "    </tr>\n",
       "    <tr>\n",
       "      <th>남</th>\n",
       "      <td>67.0</td>\n",
       "    </tr>\n",
       "    <tr>\n",
       "      <th>...</th>\n",
       "      <th>...</th>\n",
       "      <th>...</th>\n",
       "      <td>...</td>\n",
       "    </tr>\n",
       "    <tr>\n",
       "      <th rowspan=\"5\" valign=\"top\">강남구</th>\n",
       "      <th rowspan=\"2\" valign=\"top\">65~74</th>\n",
       "      <th>남</th>\n",
       "      <td>46.2</td>\n",
       "    </tr>\n",
       "    <tr>\n",
       "      <th>여</th>\n",
       "      <td>69.0</td>\n",
       "    </tr>\n",
       "    <tr>\n",
       "      <th rowspan=\"3\" valign=\"top\">75 이상</th>\n",
       "      <th>계</th>\n",
       "      <td>45.0</td>\n",
       "    </tr>\n",
       "    <tr>\n",
       "      <th>남</th>\n",
       "      <td>40.9</td>\n",
       "    </tr>\n",
       "    <tr>\n",
       "      <th>여</th>\n",
       "      <td>47.4</td>\n",
       "    </tr>\n",
       "  </tbody>\n",
       "</table>\n",
       "<p>390 rows × 1 columns</p>\n",
       "</div>"
      ],
      "text/plain": [
       "              체중조절 경험 여부\n",
       "지역  연령별   성별            \n",
       "서울시 계     계         66.5\n",
       "          남         60.0\n",
       "          여         71.5\n",
       "    19~44 계         72.7\n",
       "          남         67.0\n",
       "...                  ...\n",
       "강남구 65~74 남         46.2\n",
       "          여         69.0\n",
       "    75 이상 계         45.0\n",
       "          남         40.9\n",
       "          여         47.4\n",
       "\n",
       "[390 rows x 1 columns]"
      ]
     },
     "execution_count": 37,
     "metadata": {},
     "output_type": "execute_result"
    }
   ],
   "source": [
    "df1 = pd.DataFrame({'체중조절 경험 여부':value_cw, '지역':idx_region,'연령별':idx_age,'성별':idx_sex})\n",
    "\n",
    "df1 = df1.set_index(['지역','연령별','성별'])\n",
    "\n",
    "df1"
   ]
  },
  {
   "cell_type": "code",
   "execution_count": null,
   "id": "d4fb5b7d",
   "metadata": {},
   "outputs": [],
   "source": []
  }
 ],
 "metadata": {
  "kernelspec": {
   "display_name": "Python 3",
   "language": "python",
   "name": "python3"
  },
  "language_info": {
   "codemirror_mode": {
    "name": "ipython",
    "version": 3
   },
   "file_extension": ".py",
   "mimetype": "text/x-python",
   "name": "python",
   "nbconvert_exporter": "python",
   "pygments_lexer": "ipython3",
   "version": "3.8.8"
  }
 },
 "nbformat": 4,
 "nbformat_minor": 5
}
