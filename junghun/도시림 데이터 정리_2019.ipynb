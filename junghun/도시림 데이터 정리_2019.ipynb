{
 "cells": [
  {
   "cell_type": "code",
   "execution_count": 2,
   "id": "2663ae86",
   "metadata": {},
   "outputs": [
    {
     "name": "stderr",
     "output_type": "stream",
     "text": [
      "C:\\Users\\gimhu\\anaconda3\\lib\\site-packages\\IPython\\core\\interactiveshell.py:3437: SettingWithCopyWarning: \n",
      "A value is trying to be set on a copy of a slice from a DataFrame\n",
      "\n",
      "See the caveats in the documentation: https://pandas.pydata.org/pandas-docs/stable/user_guide/indexing.html#returning-a-view-versus-a-copy\n",
      "  exec(code_obj, self.user_global_ns, self.user_ns)\n"
     ]
    }
   ],
   "source": [
    "import openpyxl\n",
    "import pandas as pd\n",
    "\n",
    "xlsxFile = '../raw/전국+도시림+현황통계(2019)-최종.xlsx'\n",
    "sheetList = []\n",
    "\n",
    "wb = openpyxl.load_workbook(xlsxFile,read_only=True)\n",
    "\n",
    "for i in wb.sheetnames:\n",
    "    sheetList.append(i)\n",
    "\n",
    "xlsx = pd.ExcelFile(xlsxFile)\n",
    "\n",
    "df = pd.read_excel(xlsx, '7-1. 1인당 도시림면적(시군구)')\n",
    "df = df.drop(df.index[0:4])\n",
    "df = df.rename(columns=df.iloc[0])\n",
    "df = df.drop(df.index[0:4])\n",
    "df = df.drop(df.index[26:])\n",
    "df1 = df[['시군구','총도시림 면적\\n(B=F+J)','생활권도시림\\n면적\\n(C=G+K)','1인당 총도시림면적(㎡/인)\\n(D=B/A)','1인당 생활권도시림면적(㎡/인)\\n(E=C/A)']]\n",
    "df1['시군구'][8] = '서울시'\n",
    "df2 = df.iloc[:,[13,17]]\n",
    "df3 = pd.concat([df1,df2],axis=1)\n",
    "df3.columns = ['자치구','총 도시림 면적','생활권 도시림 면적','1인당 총 도시림 면적','1인당 생활권 도시림 면적','1인당 생활권 도시림 면적(산림수목)','1인당 생활권 도시림 면적(공원녹지)']\n",
    "df3.set_index(\"자치구\",inplace = True)\n",
    "df3.to_csv(\"../raw/도시림 데이터 정리_2019.csv\", mode='w',encoding = 'utf-8-sig')"
   ]
  },
  {
   "cell_type": "code",
   "execution_count": 87,
   "id": "d0227370",
   "metadata": {},
   "outputs": [],
   "source": []
  },
  {
   "cell_type": "code",
   "execution_count": null,
   "id": "1d760109",
   "metadata": {},
   "outputs": [],
   "source": []
  }
 ],
 "metadata": {
  "kernelspec": {
   "display_name": "Python 3",
   "language": "python",
   "name": "python3"
  },
  "language_info": {
   "codemirror_mode": {
    "name": "ipython",
    "version": 3
   },
   "file_extension": ".py",
   "mimetype": "text/x-python",
   "name": "python",
   "nbconvert_exporter": "python",
   "pygments_lexer": "ipython3",
   "version": "3.8.8"
  }
 },
 "nbformat": 4,
 "nbformat_minor": 5
}
