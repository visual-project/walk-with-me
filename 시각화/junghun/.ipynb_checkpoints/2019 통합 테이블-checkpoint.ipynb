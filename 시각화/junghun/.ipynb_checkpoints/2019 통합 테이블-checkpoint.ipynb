{
 "cells": [
  {
   "cell_type": "code",
   "execution_count": 1,
   "id": "1160eca5",
   "metadata": {},
   "outputs": [],
   "source": [
    "import pandas as pd\n",
    "import numpy as np\n",
    "import numpy as np\n",
    "import statsmodels.api as sm\n",
    "import statsmodels.formula.api as smf\n",
    "import scipy.stats as stats\n",
    "\n",
    "list_age = ['계','19~44','45~64','65~74','75 이상']\n",
    "list_sex = ['계','남','여']\n",
    "dic_df = {}\n",
    "\n",
    "for z in range(0,10):\n",
    "    for i in list_age:\n",
    "        for j in list_sex:\n",
    "            data1 = pd.read_csv('../../raw/통합 테이블(공원)_2019.csv')\n",
    "            data2 = pd.read_csv('../../raw/지역사회건강조사 (전처리된 데이터)_2019/통합 테이블(건강)_2019.csv')\n",
    "            data2.rename(columns={'지역':'자치구'},inplace = True)\n",
    "            df2 = data2[data2['연령별'] == i]\n",
    "            df2 = df2[df2['성별'] == j]\n",
    "            df2.set_index('자치구',inplace = True)\n",
    "            data1.set_index('자치구',inplace = True)\n",
    "            df = pd.concat([df2,data1],axis=1)\n",
    "            df = df.drop(df.index[0])\n",
    "            df = df.drop(['연령별','성별'],axis=1)\n",
    "            dic_df[df.columns[z]+i+j] = df[[df.columns[z],'1인당 생활권 도시림 면적']]"
   ]
  },
  {
   "cell_type": "code",
   "execution_count": 18,
   "id": "a65f64eb",
   "metadata": {},
   "outputs": [],
   "source": [
    "data3 = pd.read_csv('../../raw/서울시 자치구 재정자립도_2019.csv')\n",
    "data4 = pd.read_csv('../../raw/서울시 신고_등록 체육시설 통계_2019.csv')\n",
    "df2 = data2[data2['연령별'] == '계']\n",
    "df2 = df2[df2['성별'] == '계']\n",
    "df2.set_index('자치구',inplace = True)\n",
    "data3.set_index('자치구',inplace = True)\n",
    "data4.set_index('자치구',inplace = True)\n",
    "df = pd.concat([df2,data1,data3,data4],axis=1)\n",
    "df = df.drop(df.index[0])\n",
    "df = df.drop(['연령별','성별'],axis=1)\n",
    "df = df[['주관적 건강수준','체중조절 경험 여부','걷기 실천','격렬한 신체활동 실천','중등도 신체활동 실천',\n",
    "         '주관적 스트레스 수준','우울감 경험률','행복감 지수','1인당 체육시설','1인당 생활권 도시림 면적','재정자립도','1인당 연소득']]\n",
    "df.reset_index(inplace = True)"
   ]
  },
  {
   "cell_type": "code",
   "execution_count": 12,
   "id": "597dfde6",
   "metadata": {},
   "outputs": [
    {
     "data": {
      "text/html": [
       "<div>\n",
       "<style scoped>\n",
       "    .dataframe tbody tr th:only-of-type {\n",
       "        vertical-align: middle;\n",
       "    }\n",
       "\n",
       "    .dataframe tbody tr th {\n",
       "        vertical-align: top;\n",
       "    }\n",
       "\n",
       "    .dataframe thead th {\n",
       "        text-align: right;\n",
       "    }\n",
       "</style>\n",
       "<table border=\"1\" class=\"dataframe\">\n",
       "  <thead>\n",
       "    <tr style=\"text-align: right;\">\n",
       "      <th></th>\n",
       "      <th>걷기 실천</th>\n",
       "      <th>격렬한 신체활동 실천</th>\n",
       "      <th>중등도 신체활동 실천</th>\n",
       "      <th>1인당 생활권 도시림 면적</th>\n",
       "    </tr>\n",
       "    <tr>\n",
       "      <th>자치구</th>\n",
       "      <th></th>\n",
       "      <th></th>\n",
       "      <th></th>\n",
       "      <th></th>\n",
       "    </tr>\n",
       "  </thead>\n",
       "  <tbody>\n",
       "    <tr>\n",
       "      <th>영등포구</th>\n",
       "      <td>71.1</td>\n",
       "      <td>18.0</td>\n",
       "      <td>11.0</td>\n",
       "      <td>6.869465</td>\n",
       "    </tr>\n",
       "    <tr>\n",
       "      <th>양천구</th>\n",
       "      <td>61.7</td>\n",
       "      <td>16.4</td>\n",
       "      <td>10.4</td>\n",
       "      <td>4.061179</td>\n",
       "    </tr>\n",
       "    <tr>\n",
       "      <th>마포구</th>\n",
       "      <td>58.8</td>\n",
       "      <td>12.9</td>\n",
       "      <td>7.8</td>\n",
       "      <td>10.577379</td>\n",
       "    </tr>\n",
       "    <tr>\n",
       "      <th>동작구</th>\n",
       "      <td>65.7</td>\n",
       "      <td>16.4</td>\n",
       "      <td>9.0</td>\n",
       "      <td>5.905544</td>\n",
       "    </tr>\n",
       "    <tr>\n",
       "      <th>금천구</th>\n",
       "      <td>61.1</td>\n",
       "      <td>13.8</td>\n",
       "      <td>12.6</td>\n",
       "      <td>1.778059</td>\n",
       "    </tr>\n",
       "    <tr>\n",
       "      <th>구로구</th>\n",
       "      <td>59.3</td>\n",
       "      <td>9.8</td>\n",
       "      <td>6.8</td>\n",
       "      <td>3.258437</td>\n",
       "    </tr>\n",
       "    <tr>\n",
       "      <th>관악구</th>\n",
       "      <td>60.6</td>\n",
       "      <td>11.9</td>\n",
       "      <td>8.4</td>\n",
       "      <td>1.079721</td>\n",
       "    </tr>\n",
       "    <tr>\n",
       "      <th>강서구</th>\n",
       "      <td>57.5</td>\n",
       "      <td>19.4</td>\n",
       "      <td>9.9</td>\n",
       "      <td>7.303483</td>\n",
       "    </tr>\n",
       "    <tr>\n",
       "      <th>중랑구</th>\n",
       "      <td>61.3</td>\n",
       "      <td>21.1</td>\n",
       "      <td>11.4</td>\n",
       "      <td>3.722101</td>\n",
       "    </tr>\n",
       "    <tr>\n",
       "      <th>종로구</th>\n",
       "      <td>43.3</td>\n",
       "      <td>13.6</td>\n",
       "      <td>8.3</td>\n",
       "      <td>16.536911</td>\n",
       "    </tr>\n",
       "    <tr>\n",
       "      <th>은평구</th>\n",
       "      <td>63.5</td>\n",
       "      <td>13.3</td>\n",
       "      <td>10.8</td>\n",
       "      <td>5.434604</td>\n",
       "    </tr>\n",
       "    <tr>\n",
       "      <th>성북구</th>\n",
       "      <td>59.4</td>\n",
       "      <td>14.6</td>\n",
       "      <td>11.9</td>\n",
       "      <td>2.279880</td>\n",
       "    </tr>\n",
       "    <tr>\n",
       "      <th>서대문구</th>\n",
       "      <td>51.8</td>\n",
       "      <td>13.9</td>\n",
       "      <td>9.4</td>\n",
       "      <td>3.324696</td>\n",
       "    </tr>\n",
       "    <tr>\n",
       "      <th>도봉구</th>\n",
       "      <td>55.0</td>\n",
       "      <td>14.7</td>\n",
       "      <td>9.2</td>\n",
       "      <td>4.355673</td>\n",
       "    </tr>\n",
       "    <tr>\n",
       "      <th>노원구</th>\n",
       "      <td>63.0</td>\n",
       "      <td>14.8</td>\n",
       "      <td>15.8</td>\n",
       "      <td>2.734168</td>\n",
       "    </tr>\n",
       "    <tr>\n",
       "      <th>강북구</th>\n",
       "      <td>52.9</td>\n",
       "      <td>8.9</td>\n",
       "      <td>6.5</td>\n",
       "      <td>6.686457</td>\n",
       "    </tr>\n",
       "    <tr>\n",
       "      <th>중구</th>\n",
       "      <td>65.2</td>\n",
       "      <td>24.3</td>\n",
       "      <td>9.4</td>\n",
       "      <td>11.942029</td>\n",
       "    </tr>\n",
       "    <tr>\n",
       "      <th>용산구</th>\n",
       "      <td>70.1</td>\n",
       "      <td>20.8</td>\n",
       "      <td>12.7</td>\n",
       "      <td>3.538260</td>\n",
       "    </tr>\n",
       "    <tr>\n",
       "      <th>송파구</th>\n",
       "      <td>71.4</td>\n",
       "      <td>16.9</td>\n",
       "      <td>11.8</td>\n",
       "      <td>8.411513</td>\n",
       "    </tr>\n",
       "    <tr>\n",
       "      <th>성동구</th>\n",
       "      <td>62.2</td>\n",
       "      <td>19.0</td>\n",
       "      <td>13.2</td>\n",
       "      <td>3.936658</td>\n",
       "    </tr>\n",
       "    <tr>\n",
       "      <th>서초구</th>\n",
       "      <td>56.1</td>\n",
       "      <td>17.1</td>\n",
       "      <td>13.3</td>\n",
       "      <td>37.343972</td>\n",
       "    </tr>\n",
       "    <tr>\n",
       "      <th>동대문구</th>\n",
       "      <td>49.5</td>\n",
       "      <td>17.2</td>\n",
       "      <td>6.2</td>\n",
       "      <td>2.447998</td>\n",
       "    </tr>\n",
       "    <tr>\n",
       "      <th>광진구</th>\n",
       "      <td>58.3</td>\n",
       "      <td>19.4</td>\n",
       "      <td>12.9</td>\n",
       "      <td>3.664518</td>\n",
       "    </tr>\n",
       "    <tr>\n",
       "      <th>강동구</th>\n",
       "      <td>53.8</td>\n",
       "      <td>21.7</td>\n",
       "      <td>11.5</td>\n",
       "      <td>9.079784</td>\n",
       "    </tr>\n",
       "    <tr>\n",
       "      <th>강남구</th>\n",
       "      <td>57.0</td>\n",
       "      <td>15.6</td>\n",
       "      <td>10.6</td>\n",
       "      <td>8.365474</td>\n",
       "    </tr>\n",
       "  </tbody>\n",
       "</table>\n",
       "</div>"
      ],
      "text/plain": [
       "      걷기 실천  격렬한 신체활동 실천  중등도 신체활동 실천  1인당 생활권 도시림 면적\n",
       "자치구                                                  \n",
       "영등포구   71.1         18.0         11.0        6.869465\n",
       "양천구    61.7         16.4         10.4        4.061179\n",
       "마포구    58.8         12.9          7.8       10.577379\n",
       "동작구    65.7         16.4          9.0        5.905544\n",
       "금천구    61.1         13.8         12.6        1.778059\n",
       "구로구    59.3          9.8          6.8        3.258437\n",
       "관악구    60.6         11.9          8.4        1.079721\n",
       "강서구    57.5         19.4          9.9        7.303483\n",
       "중랑구    61.3         21.1         11.4        3.722101\n",
       "종로구    43.3         13.6          8.3       16.536911\n",
       "은평구    63.5         13.3         10.8        5.434604\n",
       "성북구    59.4         14.6         11.9        2.279880\n",
       "서대문구   51.8         13.9          9.4        3.324696\n",
       "도봉구    55.0         14.7          9.2        4.355673\n",
       "노원구    63.0         14.8         15.8        2.734168\n",
       "강북구    52.9          8.9          6.5        6.686457\n",
       "중구     65.2         24.3          9.4       11.942029\n",
       "용산구    70.1         20.8         12.7        3.538260\n",
       "송파구    71.4         16.9         11.8        8.411513\n",
       "성동구    62.2         19.0         13.2        3.936658\n",
       "서초구    56.1         17.1         13.3       37.343972\n",
       "동대문구   49.5         17.2          6.2        2.447998\n",
       "광진구    58.3         19.4         12.9        3.664518\n",
       "강동구    53.8         21.7         11.5        9.079784\n",
       "강남구    57.0         15.6         10.6        8.365474"
      ]
     },
     "execution_count": 12,
     "metadata": {},
     "output_type": "execute_result"
    }
   ],
   "source": []
  },
  {
   "cell_type": "code",
   "execution_count": 3,
   "id": "5289e17f",
   "metadata": {
    "scrolled": false
   },
   "outputs": [],
   "source": [
    "import matplotlib as mp\n",
    "import matplotlib.pyplot as plt\n",
    "import seaborn as sns\n",
    "fm = mp.font_manager.FontManager()\n",
    "plt.rcParams['font.family'] = 'Malgun Gothic'"
   ]
  },
  {
   "cell_type": "code",
   "execution_count": 4,
   "id": "97f46c11",
   "metadata": {
    "scrolled": true
   },
   "outputs": [
    {
     "data": {
      "text/html": [
       "<div>\n",
       "<style scoped>\n",
       "    .dataframe tbody tr th:only-of-type {\n",
       "        vertical-align: middle;\n",
       "    }\n",
       "\n",
       "    .dataframe tbody tr th {\n",
       "        vertical-align: top;\n",
       "    }\n",
       "\n",
       "    .dataframe thead th {\n",
       "        text-align: right;\n",
       "    }\n",
       "</style>\n",
       "<table border=\"1\" class=\"dataframe\">\n",
       "  <thead>\n",
       "    <tr style=\"text-align: right;\">\n",
       "      <th></th>\n",
       "      <th>걷기 실천</th>\n",
       "      <th>격렬한 신체활동 실천</th>\n",
       "      <th>중등도 신체활동 실천</th>\n",
       "      <th>1인당 생활권 도시림 면적</th>\n",
       "    </tr>\n",
       "  </thead>\n",
       "  <tbody>\n",
       "    <tr>\n",
       "      <th>걷기 실천</th>\n",
       "      <td>1.000000</td>\n",
       "      <td>0.309262</td>\n",
       "      <td>0.433586</td>\n",
       "      <td>-0.207678</td>\n",
       "    </tr>\n",
       "    <tr>\n",
       "      <th>격렬한 신체활동 실천</th>\n",
       "      <td>0.309262</td>\n",
       "      <td>1.000000</td>\n",
       "      <td>0.422556</td>\n",
       "      <td>0.125024</td>\n",
       "    </tr>\n",
       "    <tr>\n",
       "      <th>중등도 신체활동 실천</th>\n",
       "      <td>0.433586</td>\n",
       "      <td>0.422556</td>\n",
       "      <td>1.000000</td>\n",
       "      <td>0.100515</td>\n",
       "    </tr>\n",
       "    <tr>\n",
       "      <th>1인당 생활권 도시림 면적</th>\n",
       "      <td>-0.207678</td>\n",
       "      <td>0.125024</td>\n",
       "      <td>0.100515</td>\n",
       "      <td>1.000000</td>\n",
       "    </tr>\n",
       "  </tbody>\n",
       "</table>\n",
       "</div>"
      ],
      "text/plain": [
       "                   걷기 실천  격렬한 신체활동 실천  중등도 신체활동 실천  1인당 생활권 도시림 면적\n",
       "걷기 실천           1.000000     0.309262     0.433586       -0.207678\n",
       "격렬한 신체활동 실천     0.309262     1.000000     0.422556        0.125024\n",
       "중등도 신체활동 실천     0.433586     0.422556     1.000000        0.100515\n",
       "1인당 생활권 도시림 면적 -0.207678     0.125024     0.100515        1.000000"
      ]
     },
     "execution_count": 4,
     "metadata": {},
     "output_type": "execute_result"
    }
   ],
   "source": [
    "corr = df.corr()\n",
    "corr"
   ]
  },
  {
   "cell_type": "code",
   "execution_count": 5,
   "id": "a7c3b043",
   "metadata": {},
   "outputs": [
    {
     "name": "stderr",
     "output_type": "stream",
     "text": [
      "C:\\Users\\gimhu\\anaconda3\\lib\\site-packages\\matplotlib\\backends\\backend_agg.py:238: RuntimeWarning: Glyph 8722 missing from current font.\n",
      "  font.set_text(s, 0.0, flags=flags)\n",
      "C:\\Users\\gimhu\\anaconda3\\lib\\site-packages\\matplotlib\\backends\\backend_agg.py:201: RuntimeWarning: Glyph 8722 missing from current font.\n",
      "  font.set_text(s, 0, flags=flags)\n"
     ]
    },
    {
     "data": {
      "image/png": "[encoded data removed]",
      "text/plain": [
       "<Figure size 432x288 with 2 Axes>"
      ]
     },
     "metadata": {
      "needs_background": "light"
     },
     "output_type": "display_data"
    }
   ],
   "source": [
    "sns.heatmap(corr)\n",
    "plt.rc('axes', unicode_minus=False)\n",
    "plt.show()"
   ]
  },
  {
   "cell_type": "code",
   "execution_count": 6,
   "id": "269d2653",
   "metadata": {},
   "outputs": [
    {
     "data": {
      "text/plain": [
       "<seaborn.matrix.ClusterGrid at 0x21c6bf80f70>"
      ]
     },
     "execution_count": 6,
     "metadata": {},
     "output_type": "execute_result"
    },
    {
     "data": {
      "image/png": "[encoded data removed]",
      "text/plain": [
       "<Figure size 720x720 with 4 Axes>"
      ]
     },
     "metadata": {
      "needs_background": "light"
     },
     "output_type": "display_data"
    }
   ],
   "source": [
    "sns.clustermap(corr, annot = True, cmap = 'RdYlBu_r', vmin=-1, vmax = 1)"
   ]
  },
  {
   "cell_type": "code",
   "execution_count": 10,
   "id": "c845dfb7",
   "metadata": {},
   "outputs": [
    {
     "name": "stderr",
     "output_type": "stream",
     "text": [
      "<ipython-input-10-9109186c3b93>:6: DeprecationWarning: `np.bool` is a deprecated alias for the builtin `bool`. To silence this warning, use `bool` by itself. Doing this will not modify any behavior and is safe. If you specifically wanted the numpy scalar type, use `np.bool_` here.\n",
      "Deprecated in NumPy 1.20; for more details and guidance: https://numpy.org/devdocs/release/1.20.0-notes.html#deprecations\n",
      "  mask = np.zeros_like(corr, dtype=np.bool)\n"
     ]
    },
    {
     "data": {
      "image/png": "[encoded data removed]",
      "text/plain": [
       "<Figure size 360x360 with 2 Axes>"
      ]
     },
     "metadata": {
      "needs_background": "light"
     },
     "output_type": "display_data"
    }
   ],
   "source": [
    "# 그림 사이즈 지정\n",
    "fig, ax = plt.subplots( figsize=(5,5) )\n",
    "\n",
    "\n",
    "# 삼각형 마스크를 만든다(위 쪽 삼각형에 True, 아래 삼각형에 False)\n",
    "mask = np.zeros_like(corr, dtype=np.bool)\n",
    "mask[np.triu_indices_from(mask)] = True\n",
    "\n",
    "# 히트맵을 그린다\n",
    "sns.heatmap(corr, \n",
    "            cmap = 'RdYlBu_r', \n",
    "            annot = True,   # 실제 값을 표시한다\n",
    "            mask=mask,      # 표시하지 않을 마스크 부분을 지정한다\n",
    "            linewidths=.5,  # 경계면 실선으로 구분하기\n",
    "            cbar_kws={\"shrink\": .5},# 컬러바 크기 절반으로 줄이기\n",
    "            vmin = -1,vmax = 1   # 컬러바 범위 -1 ~ 1\n",
    "           )  \n",
    "plt.show()"
   ]
  },
  {
   "cell_type": "code",
   "execution_count": 53,
   "id": "c6ba6572",
   "metadata": {},
   "outputs": [
    {
     "data": {
      "image/png": "[encoded data removed]",
      "text/plain": [
       "<Figure size 1080x1080 with 2 Axes>"
      ]
     },
     "metadata": {
      "needs_background": "light"
     },
     "output_type": "display_data"
    }
   ],
   "source": [
    "# 1. 기본 스타일 설정\n",
    "#plt.style.use('default')\n",
    "plt.rcParams['figure.figsize'] = (15, 15)\n",
    "plt.rcParams['font.size'] = 8\n",
    "# 3. 그래프 그리기\n",
    "fig, ax2 = plt.subplots()\n",
    "ax2.bar(df[\"자치구\"], df[\"1인당 생활권 도시림 면적\"], color='deeppink', label='1인당 생활권 도시림 면적', alpha=0.3, width=0.7)\n",
    "ax2.set_ylabel('1인당 생활권 도시림 면적')\n",
    "plt.legend(loc=2,  fontsize=13)\n",
    "ax1 = ax2.twinx()\n",
    "ax1.plot(df[\"자치구\"], df[\"행복감 지수\"], '-s', color='purple', linewidth=2, alpha=0.5, label='행복감 지수')\n",
    "ax1.set_xlabel('자치구')\n",
    "ax1.set_ylabel('행복감 지수')\n",
    "ax1.tick_params(axis='both', direction='in')\n",
    "plt.legend(loc=1, fontsize=13)\n",
    "plt.ylim([6,8])\n",
    "\n",
    "\n",
    "#ax2.set_ylim(0, 18)\n",
    "#ax2.set_ylabel(r'Demand ($\\times10^6$)')\n",
    "ax2.tick_params(axis='y', direction='in')\n",
    "plt.show()"
   ]
  },
  {
   "cell_type": "code",
   "execution_count": 17,
   "id": "1e983663",
   "metadata": {},
   "outputs": [
    {
     "data": {
      "text/plain": [
       "Index(['행복감_지수', '1인당_생활권_도시림_면적(㎡)'], dtype='object')"
      ]
     },
     "execution_count": 17,
     "metadata": {},
     "output_type": "execute_result"
    }
   ],
   "source": [
    "df11 = dic_df['행복감 지수'+'계계']\n",
    "df11.rename(columns={df11.columns[0]: df11.columns[0].replace(' ','_'),df11.columns[1]: df11.columns[1].replace(' ','_')+'(㎡)'},inplace = True)\n",
    "df11.columns"
   ]
  },
  {
   "cell_type": "code",
   "execution_count": 13,
   "id": "df63117a",
   "metadata": {},
   "outputs": [
    {
     "data": {
      "text/plain": [
       "array([[ 4.53626667, -5.55007867],\n",
       "       [-5.55007867, 52.95222843]])"
      ]
     },
     "execution_count": 13,
     "metadata": {},
     "output_type": "execute_result"
    }
   ],
   "source": [
    "np.cov(df11[df11.columns[0]],df11[df11.columns[1]]) # 공분산 [0[1]"
   ]
  },
  {
   "cell_type": "code",
   "execution_count": 18,
   "id": "0687fe6e",
   "metadata": {},
   "outputs": [
    {
     "data": {
      "text/plain": [
       "(0.342429548157113, 0.0938191502467415)"
      ]
     },
     "execution_count": 18,
     "metadata": {},
     "output_type": "execute_result"
    }
   ],
   "source": [
    "stats.pearsonr(df11[df11.columns[0]],df11[df11.columns[1]]) #피어슨 상관계수, p value"
   ]
  },
  {
   "cell_type": "code",
   "execution_count": 21,
   "id": "d8e63599",
   "metadata": {},
   "outputs": [
    {
     "name": "stderr",
     "output_type": "stream",
     "text": [
      "C:\\Users\\gimhu\\anaconda3\\lib\\site-packages\\seaborn\\_decorators.py:36: FutureWarning: Pass the following variables as keyword args: x, y. From version 0.12, the only valid positional argument will be `data`, and passing other arguments without an explicit keyword will result in an error or misinterpretation.\n",
      "  warnings.warn(\n"
     ]
    },
    {
     "data": {
      "text/plain": [
       "<AxesSubplot:xlabel='행복감_지수', ylabel='1인당_생활권_도시림_면적(㎡)'>"
      ]
     },
     "execution_count": 21,
     "metadata": {},
     "output_type": "execute_result"
    },
    {
     "data": {
      "image/png": "[encoded data removed]",
      "text/plain": [
       "<Figure size 432x288 with 1 Axes>"
      ]
     },
     "metadata": {
      "needs_background": "light"
     },
     "output_type": "display_data"
    }
   ],
   "source": [
    "sns.set_palette(\"bright\")\n",
    "sns.regplot(df11.columns[0],df11.columns[1], lowess=True, data = df11,scatter_kws={\"color\": \"blue\"}, line_kws={\"color\": \"yellow\"})"
   ]
  },
  {
   "cell_type": "code",
   "execution_count": null,
   "id": "669f175a",
   "metadata": {},
   "outputs": [],
   "source": [
    "# 1행 2열 형태로 2개의 그래프를 그린다\n",
    "fig, (ax1, ax2) = plt.subplots(1, 2)  \n",
    "\n",
    "# speed의 밀도 플롯\n",
    "sns.kdeplot(df11[df11.columns[1]], ax=ax1)\n",
    "ax1.set_title(df11.columns[1])\n",
    "\n",
    "# dist의 밀도 플롯\n",
    "sns.kdeplot(df11[df11.columns[0]], ax=ax2)\n",
    "ax1.set_title(df11.columns[0])"
   ]
  },
  {
   "cell_type": "code",
   "execution_count": 19,
   "id": "f2c23467",
   "metadata": {},
   "outputs": [
    {
     "data": {
      "text/html": [
       "<table class=\"simpletable\">\n",
       "<caption>OLS Regression Results</caption>\n",
       "<tr>\n",
       "  <th>Dep. Variable:</th>            <td>a</td>        <th>  R-squared:         </th> <td>   0.117</td>\n",
       "</tr>\n",
       "<tr>\n",
       "  <th>Model:</th>                   <td>OLS</td>       <th>  Adj. R-squared:    </th> <td>   0.079</td>\n",
       "</tr>\n",
       "<tr>\n",
       "  <th>Method:</th>             <td>Least Squares</td>  <th>  F-statistic:       </th> <td>   3.055</td>\n",
       "</tr>\n",
       "<tr>\n",
       "  <th>Date:</th>             <td>Sat, 17 Jul 2021</td> <th>  Prob (F-statistic):</th>  <td>0.0938</td> \n",
       "</tr>\n",
       "<tr>\n",
       "  <th>Time:</th>                 <td>15:45:19</td>     <th>  Log-Likelihood:    </th> <td>  5.0028</td>\n",
       "</tr>\n",
       "<tr>\n",
       "  <th>No. Observations:</th>      <td>    25</td>      <th>  AIC:               </th> <td>  -6.006</td>\n",
       "</tr>\n",
       "<tr>\n",
       "  <th>Df Residuals:</th>          <td>    23</td>      <th>  BIC:               </th> <td>  -3.568</td>\n",
       "</tr>\n",
       "<tr>\n",
       "  <th>Df Model:</th>              <td>     1</td>      <th>                     </th>     <td> </td>   \n",
       "</tr>\n",
       "<tr>\n",
       "  <th>Covariance Type:</th>      <td>nonrobust</td>    <th>                     </th>     <td> </td>   \n",
       "</tr>\n",
       "</table>\n",
       "<table class=\"simpletable\">\n",
       "<tr>\n",
       "      <td></td>         <th>coef</th>     <th>std err</th>      <th>t</th>      <th>P>|t|</th>  <th>[0.025</th>    <th>0.975]</th>  \n",
       "</tr>\n",
       "<tr>\n",
       "  <th>Intercept</th> <td>    6.9405</td> <td>    0.058</td> <td>  120.026</td> <td> 0.000</td> <td>    6.821</td> <td>    7.060</td>\n",
       "</tr>\n",
       "<tr>\n",
       "  <th>b</th>         <td>    0.0101</td> <td>    0.006</td> <td>    1.748</td> <td> 0.094</td> <td>   -0.002</td> <td>    0.022</td>\n",
       "</tr>\n",
       "</table>\n",
       "<table class=\"simpletable\">\n",
       "<tr>\n",
       "  <th>Omnibus:</th>       <td>10.387</td> <th>  Durbin-Watson:     </th> <td>   1.457</td>\n",
       "</tr>\n",
       "<tr>\n",
       "  <th>Prob(Omnibus):</th> <td> 0.006</td> <th>  Jarque-Bera (JB):  </th> <td>   2.304</td>\n",
       "</tr>\n",
       "<tr>\n",
       "  <th>Skew:</th>          <td>-0.138</td> <th>  Prob(JB):          </th> <td>   0.316</td>\n",
       "</tr>\n",
       "<tr>\n",
       "  <th>Kurtosis:</th>      <td> 1.539</td> <th>  Cond. No.          </th> <td>    14.0</td>\n",
       "</tr>\n",
       "</table><br/><br/>Notes:<br/>[1] Standard Errors assume that the covariance matrix of the errors is correctly specified."
      ],
      "text/plain": [
       "<class 'statsmodels.iolib.summary.Summary'>\n",
       "\"\"\"\n",
       "                            OLS Regression Results                            \n",
       "==============================================================================\n",
       "Dep. Variable:                      a   R-squared:                       0.117\n",
       "Model:                            OLS   Adj. R-squared:                  0.079\n",
       "Method:                 Least Squares   F-statistic:                     3.055\n",
       "Date:                Sat, 17 Jul 2021   Prob (F-statistic):             0.0938\n",
       "Time:                        15:45:19   Log-Likelihood:                 5.0028\n",
       "No. Observations:                  25   AIC:                            -6.006\n",
       "Df Residuals:                      23   BIC:                            -3.568\n",
       "Df Model:                           1                                         \n",
       "Covariance Type:            nonrobust                                         \n",
       "==============================================================================\n",
       "                 coef    std err          t      P>|t|      [0.025      0.975]\n",
       "------------------------------------------------------------------------------\n",
       "Intercept      6.9405      0.058    120.026      0.000       6.821       7.060\n",
       "b              0.0101      0.006      1.748      0.094      -0.002       0.022\n",
       "==============================================================================\n",
       "Omnibus:                       10.387   Durbin-Watson:                   1.457\n",
       "Prob(Omnibus):                  0.006   Jarque-Bera (JB):                2.304\n",
       "Skew:                          -0.138   Prob(JB):                        0.316\n",
       "Kurtosis:                       1.539   Cond. No.                         14.0\n",
       "==============================================================================\n",
       "\n",
       "Notes:\n",
       "[1] Standard Errors assume that the covariance matrix of the errors is correctly specified.\n",
       "\"\"\""
      ]
     },
     "execution_count": 19,
     "metadata": {},
     "output_type": "execute_result"
    }
   ],
   "source": [
    "df22 = df11.rename(columns={df11.columns[0]: 'a',df11.columns[1]: 'b'})\n",
    "model = smf.ols(formula = 'a ~ b', data = df22)\n",
    "result = model.fit()\n",
    "result.summary()"
   ]
  },
  {
   "cell_type": "code",
   "execution_count": 20,
   "id": "f75f050d",
   "metadata": {},
   "outputs": [
    {
     "data": {
      "text/plain": [
       "<seaborn.axisgrid.FacetGrid at 0x2d493d748e0>"
      ]
     },
     "execution_count": 20,
     "metadata": {},
     "output_type": "execute_result"
    },
    {
     "data": {
      "image/png": "[encoded data removed]",
      "text/plain": [
       "<Figure size 360x360 with 1 Axes>"
      ]
     },
     "metadata": {
      "needs_background": "light"
     },
     "output_type": "display_data"
    }
   ],
   "source": [
    "sns.lmplot(x=df11.columns[0], y=df11.columns[1], data=df11, line_kws={'color':\"yellow\"}, scatter_kws={'edgecolor':\"white\"}, x_jitter=.9)"
   ]
  },
  {
   "cell_type": "code",
   "execution_count": null,
   "id": "4ee95468",
   "metadata": {},
   "outputs": [],
   "source": [
    "plt.figure(figsize=(10,10))\n",
    "plt.xticks(rotation=45)\n",
    "sns.lineplot(data=df11)\n",
    "\n",
    "plt.rcParams['figure.figsize'] = (7, 4)\n",
    "plt.rcParams['font.size'] = 8\n",
    "# 3. 그래프 그리기\n",
    "fig, ax1 = plt.subplots()\n",
    "ax1.plot(df_m_join_1[\"자치구\"], df_m_join_1[\"1인당 총 도시림 면적\"], '-s', color='green', linewidth=2, alpha=0.5, label='Price')\n",
    "ax1.set_xlabel('자치구')\n",
    "ax1.set_ylabel('공원 도림 면적')\n",
    "ax1.tick_params(axis='both', direction='in')\n",
    "ax2 = ax1.twinx()\n",
    "ax2.bar(df_m_join_1[\"자치구\"], df_m_join_1[\"우울감 경험률\"], color='deeppink', label='Demand', alpha=0.7, width=0.7)\n",
    "#ax2.set_ylim(0, 18)\n",
    "#ax2.set_ylabel(r'Demand ($\\times10^6$)')\n",
    "ax2.tick_params(axis='y', direction='in')\n",
    "plt.show()"
   ]
  },
  {
   "cell_type": "code",
   "execution_count": null,
   "id": "7f18e726",
   "metadata": {},
   "outputs": [],
   "source": []
  }
 ],
 "metadata": {
  "kernelspec": {
   "display_name": "Python 3",
   "language": "python",
   "name": "python3"
  },
  "language_info": {
   "codemirror_mode": {
    "name": "ipython",
    "version": 3
   },
   "file_extension": ".py",
   "mimetype": "text/x-python",
   "name": "python",
   "nbconvert_exporter": "python",
   "pygments_lexer": "ipython3",
   "version": "3.8.8"
  }
 },
 "nbformat": 4,
 "nbformat_minor": 5
}
