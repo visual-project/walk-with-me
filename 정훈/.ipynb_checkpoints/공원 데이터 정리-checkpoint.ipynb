{
 "cells": [
  {
   "cell_type": "code",
   "execution_count": null,
   "id": "2663ae86",
   "metadata": {},
   "outputs": [],
   "source": [
    "import pandas as pd\n",
    "\n",
    "\n",
    "data1 = pd.read_csv('../raw/서울시 공원 (1인당 공원면적) 통계(08~19).txt', sep ='\\t',encoding='UTF8')\n",
    "data2 = pd.read_csv('../raw/서울시 공원 통계(2013~19).txt', sep ='\\t',encoding='UTF8')\n",
    "data4 = pd.read_csv('../raw/서울시 공원 (공원율) 통계(10-19).txt', sep ='\\t',encoding='UTF8')\n",
    "data5 = pd.read_csv('../raw/자치구별 면적.csv')"
   ]
  }
 ],
 "metadata": {
  "kernelspec": {
   "display_name": "Python 3",
   "language": "python",
   "name": "python3"
  },
  "language_info": {
   "codemirror_mode": {
    "name": "ipython",
    "version": 3
   },
   "file_extension": ".py",
   "mimetype": "text/x-python",
   "name": "python",
   "nbconvert_exporter": "python",
   "pygments_lexer": "ipython3",
   "version": "3.8.8"
  }
 },
 "nbformat": 4,
 "nbformat_minor": 5
}
