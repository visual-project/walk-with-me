{
 "cells": [
  {
   "cell_type": "code",
   "execution_count": 1,
   "id": "2fb38580",
   "metadata": {},
   "outputs": [
    {
     "name": "stderr",
     "output_type": "stream",
     "text": [
      "C:\\Users\\gimhu\\anaconda3\\lib\\site-packages\\IPython\\core\\interactiveshell.py:3165: DtypeWarning: Columns (29,74,80,140,193,205,221,223,225,227,229,231,235,273) have mixed types.Specify dtype option on import or set low_memory=False.\n",
      "  has_raised = await self.run_ast_nodes(code_ast.body, cell_name,\n"
     ]
    }
   ],
   "source": [
    "import pandas as pd\n",
    "data_raw = pd.read_csv('../raw/지역사회건강조사 원시자료/chs19_a.txt',sep ='\\t')\n",
    "\n",
    "data_pbhlth_code = pd.read_excel('../raw/지역사회건강조사 2019년 원시자료 이용지침서 등/지역사회건강조사 2019 원시자료 참고사항_보건소정보, 세대유형.xlsx',header=3)\n",
    "data_pbhlth_code = data_pbhlth_code[data_pbhlth_code['시도코드'] == 11][['보건소코드','보건소명']]\n",
    "\n",
    "data_pbhlth_code[\"보건소명\"] = data_pbhlth_code[\"보건소명\"].str.replace('보건소', '', regex=True)\n",
    "data_pbhlth_code.columns=['보건소코드','자치구']\n",
    "data_pbhlth_code.set_index('보건소코드',inplace=True)\n",
    "data_pbhlth_code.to_dict()\n",
    "data_pbhlth_code.to_dict()['자치구']\n",
    "\n",
    "df_raw1 = data_raw[['age','sex','pbhlth_code','qoa_01z1','pha_04z1','pha_05z1','pha_06z1','pha_07z1','pha_08z1','pha_09z1','phb_01z1','phb_02z1','phb_03z1','obb_01z1','mta_01z1','mtb_01z1','qoc_07z1','ena_01d1','ena_01e1','fma_01z1','fma_12z1','fma_13z1','fma_14z1','fma_24z2']]\n",
    "index = ['만나이','성별','보건소번호','주관적 건강수준','격렬한 신체활동 일수','격렬한 신체활동 시간(시)','격렬한 신체활동 시간(분)','중등도 신체활동 일수','중등도 신체활동 시간(시)','중등도 신체활동 시간(분)','걷기 실천 일수','걷기 실천 시간(시)','걷기 실천 시간(분)','체중조절 경험 여부','주관적 스트레스 수준','우울감 경험 여부','행복감 지수','사회환경_동네 자연환경','사회환경_동네 생활환경','가구원수','가구소득_년월','가구소득_년금액','가구소득_월금액','조건부가구소득']\n",
    "df_raw1.columns = index\n",
    "df_raw2 = df_raw1.copy() # SettingWithCopyWarning 없애려고 넣음..없어도 돌아는 감\n",
    "df_raw2['자치구'] = df_raw2['보건소번호'].map(data_pbhlth_code.to_dict()['자치구'])\n",
    "df_raw2 = df_raw2.drop(['보건소번호'],axis=1)\n",
    "df_raw2.to_csv(\"../raw/지역사회건강조사 1차 전처리_2019.csv\", mode='w',encoding = 'utf-8-sig')"
   ]
  },
  {
   "cell_type": "code",
   "execution_count": 6,
   "id": "d06969d2",
   "metadata": {},
   "outputs": [],
   "source": []
  },
  {
   "cell_type": "code",
   "execution_count": null,
   "id": "030fac65",
   "metadata": {},
   "outputs": [],
   "source": []
  }
 ],
 "metadata": {
  "interpreter": {
   "hash": "2bf897e74dab5aac5f2c54973cfd669d345d3acd814bbd081e8c89e03988b521"
  },
  "kernelspec": {
   "display_name": "Python 3",
   "language": "python",
   "name": "python3"
  },
  "language_info": {
   "codemirror_mode": {
    "name": "ipython",
    "version": 3
   },
   "file_extension": ".py",
   "mimetype": "text/x-python",
   "name": "python",
   "nbconvert_exporter": "python",
   "pygments_lexer": "ipython3",
   "version": "3.8.8"
  }
 },
 "nbformat": 4,
 "nbformat_minor": 5
}
