{
 "cells": [
  {
   "cell_type": "code",
   "execution_count": 17,
   "id": "8332b82a",
   "metadata": {},
   "outputs": [],
   "source": [
    "import pandas as pd\n",
    "import numpy as np\n",
    "\n",
    "data_raw = pd.read_csv('../raw/지역사회건강조사 1차 전처리_2019.csv')"
   ]
  },
  {
   "cell_type": "code",
   "execution_count": 18,
   "id": "3897b59c",
   "metadata": {},
   "outputs": [],
   "source": [
    "df = data_raw[['만나이','성별','행복감 지수','자치구']]"
   ]
  },
  {
   "cell_type": "code",
   "execution_count": 19,
   "id": "204f6fd0",
   "metadata": {
    "scrolled": true
   },
   "outputs": [],
   "source": [
    "df_hi1=df[df['행복감 지수'] != 99]\n",
    "df_hi2=df_hi1[df_hi1['행복감 지수'] != 77]"
   ]
  },
  {
   "cell_type": "code",
   "execution_count": 20,
   "id": "56073c01",
   "metadata": {},
   "outputs": [],
   "source": [
    "data_pbhlth_code = pd.read_excel('../raw/지역사회건강조사 2019년 원시자료 이용지침서 등/지역사회건강조사 2019 원시자료 참고사항_보건소정보, 세대유형.xlsx',header=3)\n",
    "data_pbhlth_code = data_pbhlth_code[data_pbhlth_code['시도코드'] == 11][['보건소코드','보건소명']]\n",
    "data_pbhlth_code[\"보건소명\"] = data_pbhlth_code[\"보건소명\"].str.replace('보건소', '', regex=True)\n",
    "data_pbhlth_code.columns=['보건소코드','자치구']\n",
    "list_region = list(data_pbhlth_code.to_dict()['자치구'].values()) + ['서울시']\n",
    "list_region.reverse()"
   ]
  },
  {
   "cell_type": "code",
   "execution_count": 21,
   "id": "9cb02d7e",
   "metadata": {},
   "outputs": [],
   "source": [
    "list_df = []\n",
    "for value in list_region:\n",
    "    temp = df_hi2['자치구'] == value\n",
    "    list_df.append(df_hi2[temp])\n",
    "list_df[0] = df_hi2"
   ]
  },
  {
   "cell_type": "code",
   "execution_count": 22,
   "id": "04a00f01",
   "metadata": {},
   "outputs": [],
   "source": [
    "list_age = ['19~200','19~44','45~64','65~74','75~200']\n",
    "list_sex = ['계','남','여']\n",
    "idx_sex = []\n",
    "idx_age = []\n",
    "idx_region = []\n",
    "value_hi = []\n",
    "for i, value1 in enumerate(list_region):\n",
    "    for j in list_age:\n",
    "        for k in list_sex:            \n",
    "            temp = list_df[i][list_df[i]['만나이']>=int(j.split('~')[0])]\n",
    "            temp1 = temp[temp['만나이'] <= int(j.split('~')[1])]\n",
    "            if k == '남':\n",
    "                temp2 = temp1[temp1['성별'] == 1]\n",
    "            elif k == '여':\n",
    "                temp2 = temp1[temp1['성별'] == 2]\n",
    "            else:\n",
    "                temp2 = temp1\n",
    "            temp3 = temp2['행복감 지수'].value_counts().to_dict()\n",
    "            for m in range(1,11):\n",
    "                if m not in temp3:\n",
    "                    temp3[m] = 0\n",
    "            temp_sum = 0\n",
    "            for n in range(1,11):\n",
    "                temp_sum += temp3[n]*n\n",
    "            value_hi.append(round(temp_sum / len(temp2['행복감 지수']),2))\n",
    "            if j == '19~200':\n",
    "                idx_age.append('계')\n",
    "            elif j == '75~200':\n",
    "                idx_age.append('75 이상')\n",
    "            else:\n",
    "                idx_age.append(j)\n",
    "            idx_sex.append(k)\n",
    "            idx_region.append(value1)"
   ]
  },
  {
   "cell_type": "code",
   "execution_count": 23,
   "id": "4e2b98b6",
   "metadata": {},
   "outputs": [
    {
     "data": {
      "text/html": [
       "<div>\n",
       "<style scoped>\n",
       "    .dataframe tbody tr th:only-of-type {\n",
       "        vertical-align: middle;\n",
       "    }\n",
       "\n",
       "    .dataframe tbody tr th {\n",
       "        vertical-align: top;\n",
       "    }\n",
       "\n",
       "    .dataframe thead th {\n",
       "        text-align: right;\n",
       "    }\n",
       "</style>\n",
       "<table border=\"1\" class=\"dataframe\">\n",
       "  <thead>\n",
       "    <tr style=\"text-align: right;\">\n",
       "      <th></th>\n",
       "      <th></th>\n",
       "      <th></th>\n",
       "      <th>행복감 지수</th>\n",
       "    </tr>\n",
       "    <tr>\n",
       "      <th>지역</th>\n",
       "      <th>연령별</th>\n",
       "      <th>성별</th>\n",
       "      <th></th>\n",
       "    </tr>\n",
       "  </thead>\n",
       "  <tbody>\n",
       "    <tr>\n",
       "      <th rowspan=\"5\" valign=\"top\">서울시</th>\n",
       "      <th rowspan=\"3\" valign=\"top\">계</th>\n",
       "      <th>계</th>\n",
       "      <td>7.01</td>\n",
       "    </tr>\n",
       "    <tr>\n",
       "      <th>남</th>\n",
       "      <td>7.05</td>\n",
       "    </tr>\n",
       "    <tr>\n",
       "      <th>여</th>\n",
       "      <td>6.98</td>\n",
       "    </tr>\n",
       "    <tr>\n",
       "      <th rowspan=\"2\" valign=\"top\">19~44</th>\n",
       "      <th>계</th>\n",
       "      <td>7.12</td>\n",
       "    </tr>\n",
       "    <tr>\n",
       "      <th>남</th>\n",
       "      <td>7.17</td>\n",
       "    </tr>\n",
       "    <tr>\n",
       "      <th>...</th>\n",
       "      <th>...</th>\n",
       "      <th>...</th>\n",
       "      <td>...</td>\n",
       "    </tr>\n",
       "    <tr>\n",
       "      <th rowspan=\"5\" valign=\"top\">강남구</th>\n",
       "      <th rowspan=\"2\" valign=\"top\">65~74</th>\n",
       "      <th>남</th>\n",
       "      <td>7.10</td>\n",
       "    </tr>\n",
       "    <tr>\n",
       "      <th>여</th>\n",
       "      <td>7.45</td>\n",
       "    </tr>\n",
       "    <tr>\n",
       "      <th rowspan=\"3\" valign=\"top\">75 이상</th>\n",
       "      <th>계</th>\n",
       "      <td>6.98</td>\n",
       "    </tr>\n",
       "    <tr>\n",
       "      <th>남</th>\n",
       "      <td>7.00</td>\n",
       "    </tr>\n",
       "    <tr>\n",
       "      <th>여</th>\n",
       "      <td>6.97</td>\n",
       "    </tr>\n",
       "  </tbody>\n",
       "</table>\n",
       "<p>390 rows × 1 columns</p>\n",
       "</div>"
      ],
      "text/plain": [
       "              행복감 지수\n",
       "지역  연령별   성별        \n",
       "서울시 계     계     7.01\n",
       "          남     7.05\n",
       "          여     6.98\n",
       "    19~44 계     7.12\n",
       "          남     7.17\n",
       "...              ...\n",
       "강남구 65~74 남     7.10\n",
       "          여     7.45\n",
       "    75 이상 계     6.98\n",
       "          남     7.00\n",
       "          여     6.97\n",
       "\n",
       "[390 rows x 1 columns]"
      ]
     },
     "execution_count": 23,
     "metadata": {},
     "output_type": "execute_result"
    }
   ],
   "source": [
    "df_final = pd.DataFrame({'행복감 지수':value_hi, '지역':idx_region,'연령별':idx_age,'성별':idx_sex})\n",
    "\n",
    "df_final = df_final.set_index(['지역','연령별','성별'])\n",
    "\n",
    "df_final"
   ]
  },
  {
   "cell_type": "code",
   "execution_count": 26,
   "id": "96169e54",
   "metadata": {},
   "outputs": [],
   "source": [
    "df_final.to_csv(\"../raw/지역사회건강조사 (전처리된 데이터)_2019/지역사회건강조사 (행복감 지수)_2019.csv\", mode='w',encoding = 'utf-8-sig')"
   ]
  },
  {
   "cell_type": "code",
   "execution_count": null,
   "id": "30ca982b",
   "metadata": {},
   "outputs": [],
   "source": []
  }
 ],
 "metadata": {
  "kernelspec": {
   "display_name": "Python 3",
   "language": "python",
   "name": "python3"
  },
  "language_info": {
   "codemirror_mode": {
    "name": "ipython",
    "version": 3
   },
   "file_extension": ".py",
   "mimetype": "text/x-python",
   "name": "python",
   "nbconvert_exporter": "python",
   "pygments_lexer": "ipython3",
   "version": "3.8.8"
  }
 },
 "nbformat": 4,
 "nbformat_minor": 5
}
