{
 "cells": [
  {
   "cell_type": "code",
   "execution_count": 1,
   "id": "6af77a7e",
   "metadata": {},
   "outputs": [],
   "source": [
    "import pandas as pd\n",
    "\n",
    "data_raw = pd.read_csv('../raw/지역사회건강조사 1차 전처리.csv')"
   ]
  },
  {
   "cell_type": "code",
   "execution_count": 2,
   "id": "95fa1510",
   "metadata": {},
   "outputs": [],
   "source": [
    "df = data_raw[['만나이','성별','우울감 경험 여부','자치구']]"
   ]
  },
  {
   "cell_type": "code",
   "execution_count": 3,
   "id": "00e0827f",
   "metadata": {},
   "outputs": [],
   "source": [
    "df_dep1=df[df['우울감 경험 여부'] != 9]\n",
    "df_dep2=df_dep1[df_dep1['우울감 경험 여부'] != 7]"
   ]
  },
  {
   "cell_type": "code",
   "execution_count": 4,
   "id": "c92b0006",
   "metadata": {},
   "outputs": [],
   "source": [
    "data_pbhlth_code = pd.read_excel('../raw/지역사회건강조사 2019년 원시자료 이용지침서 등/지역사회건강조사 2019 원시자료 참고사항_보건소정보, 세대유형.xlsx',header=3)\n",
    "data_pbhlth_code = data_pbhlth_code[data_pbhlth_code['시도코드'] == 11][['보건소코드','보건소명']]\n",
    "data_pbhlth_code[\"보건소명\"] = data_pbhlth_code[\"보건소명\"].str.replace('보건소', '', regex=True)\n",
    "data_pbhlth_code.columns=['보건소코드','자치구']\n",
    "list_region = list(data_pbhlth_code.to_dict()['자치구'].values()) + ['서울시']\n",
    "list_region.reverse()"
   ]
  },
  {
   "cell_type": "code",
   "execution_count": 5,
   "id": "4c3a221c",
   "metadata": {},
   "outputs": [],
   "source": [
    "list_df = []\n",
    "dic_all ={}\n",
    "for value in list_region:\n",
    "    temp = df_dep2['자치구'] == value\n",
    "    list_df.append(df_dep2[temp])\n",
    "list_df[0] = df_dep2"
   ]
  },
  {
   "cell_type": "code",
   "execution_count": 16,
   "id": "54ecd5b4",
   "metadata": {},
   "outputs": [],
   "source": [
    "list_age = ['19~200','19~44','45~64','65~74','75~200']\n",
    "list_sex = ['계','남','여']\n",
    "idx_region = []\n",
    "idx_sex = []\n",
    "idx_age = []\n",
    "value = []\n",
    "for i, value1 in enumerate(list_region):\n",
    "    for j in list_age:\n",
    "        for k in list_sex:            \n",
    "            temp = list_df[i][list_df[i]['만나이']>=int(value2.split('~')[0])]\n",
    "            temp1 = temp[temp['만나이'] < int(value2.split('~')[1])]\n",
    "            if list_age == '남':\n",
    "                temp2 = temp1[temp1['성별'] == '남']\n",
    "            elif list_age == '여':\n",
    "                temp2 = temp1[temp1['성별'] == '여']\n",
    "            else:\n",
    "                temp2 = temp1\n",
    "            value.append(round(temp2['우울감 경험 여부'].value_counts(normalize = True)[1] * 100, 1))\n",
    "            idx_region.append(value1)\n",
    "            if j == '19~200':\n",
    "                idx_age.append('계')\n",
    "            elif j == '75~200':\n",
    "                idx_age.append('75 이상')\n",
    "            else:\n",
    "                idx_age.append(j)\n",
    "            idx_sex.append(k)"
   ]
  },
  {
   "cell_type": "code",
   "execution_count": 17,
   "id": "55c8691a",
   "metadata": {},
   "outputs": [
    {
     "data": {
      "text/html": [
       "<div>\n",
       "<style scoped>\n",
       "    .dataframe tbody tr th:only-of-type {\n",
       "        vertical-align: middle;\n",
       "    }\n",
       "\n",
       "    .dataframe tbody tr th {\n",
       "        vertical-align: top;\n",
       "    }\n",
       "\n",
       "    .dataframe thead th {\n",
       "        text-align: right;\n",
       "    }\n",
       "</style>\n",
       "<table border=\"1\" class=\"dataframe\">\n",
       "  <thead>\n",
       "    <tr style=\"text-align: right;\">\n",
       "      <th></th>\n",
       "      <th></th>\n",
       "      <th></th>\n",
       "      <th>우울감 경험률</th>\n",
       "    </tr>\n",
       "    <tr>\n",
       "      <th>지역</th>\n",
       "      <th>연령별</th>\n",
       "      <th>성별</th>\n",
       "      <th></th>\n",
       "    </tr>\n",
       "  </thead>\n",
       "  <tbody>\n",
       "    <tr>\n",
       "      <th rowspan=\"5\" valign=\"top\">서울시</th>\n",
       "      <th rowspan=\"3\" valign=\"top\">계</th>\n",
       "      <th>계</th>\n",
       "      <td>7.4</td>\n",
       "    </tr>\n",
       "    <tr>\n",
       "      <th>남</th>\n",
       "      <td>7.4</td>\n",
       "    </tr>\n",
       "    <tr>\n",
       "      <th>여</th>\n",
       "      <td>7.4</td>\n",
       "    </tr>\n",
       "    <tr>\n",
       "      <th rowspan=\"2\" valign=\"top\">19~44</th>\n",
       "      <th>계</th>\n",
       "      <td>7.4</td>\n",
       "    </tr>\n",
       "    <tr>\n",
       "      <th>남</th>\n",
       "      <td>7.4</td>\n",
       "    </tr>\n",
       "    <tr>\n",
       "      <th>...</th>\n",
       "      <th>...</th>\n",
       "      <th>...</th>\n",
       "      <td>...</td>\n",
       "    </tr>\n",
       "    <tr>\n",
       "      <th rowspan=\"5\" valign=\"top\">강남구</th>\n",
       "      <th rowspan=\"2\" valign=\"top\">65~74</th>\n",
       "      <th>남</th>\n",
       "      <td>8.3</td>\n",
       "    </tr>\n",
       "    <tr>\n",
       "      <th>여</th>\n",
       "      <td>8.3</td>\n",
       "    </tr>\n",
       "    <tr>\n",
       "      <th rowspan=\"3\" valign=\"top\">75 이상</th>\n",
       "      <th>계</th>\n",
       "      <td>8.3</td>\n",
       "    </tr>\n",
       "    <tr>\n",
       "      <th>남</th>\n",
       "      <td>8.3</td>\n",
       "    </tr>\n",
       "    <tr>\n",
       "      <th>여</th>\n",
       "      <td>8.3</td>\n",
       "    </tr>\n",
       "  </tbody>\n",
       "</table>\n",
       "<p>390 rows × 1 columns</p>\n",
       "</div>"
      ],
      "text/plain": [
       "              우울감 경험률\n",
       "지역  연령별   성별         \n",
       "서울시 계     계       7.4\n",
       "          남       7.4\n",
       "          여       7.4\n",
       "    19~44 계       7.4\n",
       "          남       7.4\n",
       "...               ...\n",
       "강남구 65~74 남       8.3\n",
       "          여       8.3\n",
       "    75 이상 계       8.3\n",
       "          남       8.3\n",
       "          여       8.3\n",
       "\n",
       "[390 rows x 1 columns]"
      ]
     },
     "execution_count": 17,
     "metadata": {},
     "output_type": "execute_result"
    }
   ],
   "source": [
    "df1 = pd.DataFrame({'우울감 경험률':value, '지역':idx_region,'연령별':idx_age,'성별':idx_sex})\n",
    "\n",
    "df1 = df1.set_index(['지역','연령별','성별'])\n",
    "\n",
    "df1"
   ]
  },
  {
   "cell_type": "code",
   "execution_count": null,
   "id": "1a936336",
   "metadata": {},
   "outputs": [],
   "source": []
  }
 ],
 "metadata": {
  "kernelspec": {
   "display_name": "Python 3",
   "language": "python",
   "name": "python3"
  },
  "language_info": {
   "codemirror_mode": {
    "name": "ipython",
    "version": 3
   },
   "file_extension": ".py",
   "mimetype": "text/x-python",
   "name": "python",
   "nbconvert_exporter": "python",
   "pygments_lexer": "ipython3",
   "version": "3.8.8"
  }
 },
 "nbformat": 4,
 "nbformat_minor": 5
}
